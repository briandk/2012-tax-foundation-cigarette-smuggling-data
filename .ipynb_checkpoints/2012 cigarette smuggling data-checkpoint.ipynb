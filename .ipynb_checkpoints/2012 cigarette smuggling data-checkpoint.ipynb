{
 "metadata": {
  "name": ""
 },
 "nbformat": 3,
 "nbformat_minor": 0,
 "worksheets": [
  {
   "cells": [
    {
     "cell_type": "code",
     "collapsed": false,
     "input": [
      "from pandas import read_csv\n",
      "import pandas as pd"
     ],
     "language": "python",
     "metadata": {},
     "outputs": []
    },
    {
     "cell_type": "code",
     "collapsed": false,
     "input": [
      "cigarette_data_column_names = [\"state\",\n",
      "                               \"taxRate-2012\",\n",
      "                               \"smuggledRate-2012\",\n",
      "                               \"smuggledRate-2006\",\n",
      "                               \"smuggledRank-2012\",\n",
      "                               \"smugglingRankChangeSince2006\",\n",
      "                               \"cigaretteTaxRateChangeSince2006\",]\n",
      "                               \n",
      "cigdata = read_csv(\"TaxFoundationSourceData.csv\",\n",
      "                   header=0,\n",
      "                   names = cigarette_data_column_names,\n",
      "                   index_col=False)\n",
      "cigdata"
     ],
     "language": "python",
     "metadata": {},
     "outputs": []
    },
    {
     "cell_type": "markdown",
     "metadata": {},
     "source": [
      "## Cleaning the data\n",
      "\n",
      "To clean this data we'll need to do a few things:\n",
      "\n",
      "- Remove dollar signs in taxRate column\n",
      "- Remove percentages in smuggledRate columns\n",
      "- Change \"No change\" in the final column to zero"
     ]
    },
    {
     "cell_type": "code",
     "collapsed": false,
     "input": [],
     "language": "python",
     "metadata": {},
     "outputs": []
    }
   ],
   "metadata": {}
  }
 ]
}