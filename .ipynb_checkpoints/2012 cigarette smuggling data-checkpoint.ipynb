{
 "metadata": {
  "name": ""
 },
 "nbformat": 3,
 "nbformat_minor": 0,
 "worksheets": [
  {
   "cells": [
    {
     "cell_type": "code",
     "collapsed": false,
     "input": [
      "from pandas import read_csv\n",
      "import pandas as pd"
     ],
     "language": "python",
     "metadata": {},
     "outputs": []
    },
    {
     "cell_type": "code",
     "collapsed": false,
     "input": [
      "cigarette_data_column_names = [\"state\",\n",
      "                               \"taxRate-2012\",\n",
      "                               \"smuggledRate-2012\",\n",
      "                               \"smuggledRate-2006\",\n",
      "                               \"smuggledRank-2012\",\n",
      "                               \"smugglingRankChangeSince2006\",\n",
      "                               \"cigaretteTaxRateChangeSince2006\",]\n",
      "                               \n",
      "cigdata = read_csv(\"TaxFoundationSourceData.csv\",\n",
      "                   header=0,\n",
      "                   names = cigarette_data_column_names,\n",
      "                   index_col=False)\n",
      "cigdata"
     ],
     "language": "python",
     "metadata": {},
     "outputs": []
    },
    {
     "cell_type": "code",
     "collapsed": false,
     "input": [],
     "language": "python",
     "metadata": {},
     "outputs": []
    }
   ],
   "metadata": {}
  }
 ]
}